{
 "cells": [
  {
   "cell_type": "code",
   "execution_count": 1,
   "id": "23a393b3",
   "metadata": {},
   "outputs": [],
   "source": [
    "a=[1,4,5,6]"
   ]
  },
  {
   "cell_type": "code",
   "execution_count": 2,
   "id": "026402e3",
   "metadata": {},
   "outputs": [
    {
     "name": "stdout",
     "output_type": "stream",
     "text": [
      "<class 'list'>\n"
     ]
    }
   ],
   "source": [
    "print(type(a))"
   ]
  },
  {
   "cell_type": "code",
   "execution_count": 3,
   "id": "a8fde129",
   "metadata": {},
   "outputs": [
    {
     "name": "stdout",
     "output_type": "stream",
     "text": [
      "<class 'tuple'>\n"
     ]
    }
   ],
   "source": [
    "# conversion of a list to a tuple\n",
    "b=tuple(a)\n",
    "print(type(b))"
   ]
  },
  {
   "cell_type": "code",
   "execution_count": 9,
   "id": "62526eb3",
   "metadata": {},
   "outputs": [
    {
     "name": "stdout",
     "output_type": "stream",
     "text": [
      "(1, [3, 4, 5, 0], 'foo')\n"
     ]
    }
   ],
   "source": [
    "# if the object is inside a tuple which is mutable then only that elememt is mutable\n",
    "b=(1,[3,4,5],\"foo\")\n",
    "b[1].append(0)\n",
    "print(b)"
   ]
  },
  {
   "cell_type": "code",
   "execution_count": 10,
   "id": "93f93ea3",
   "metadata": {},
   "outputs": [
    {
     "name": "stdout",
     "output_type": "stream",
     "text": [
      "('foo', 'hoo', 'foo', 'hoo', 'foo', 'hoo', 'foo', 'hoo')\n"
     ]
    }
   ],
   "source": [
    "#multiplying a tuple inside a tuple with integer will help make it that times \n",
    "#-- input (\"foo\",\"hoo\")*4    --output(\"foo\",\"hoo\",\"foo\",\"hoo\",\"foo\",\"hoo\")\n",
    "b=(\"foo\",\"hoo\")*4\n",
    "print(b)"
   ]
  },
  {
   "cell_type": "code",
   "execution_count": 11,
   "id": "6f32000e",
   "metadata": {},
   "outputs": [
    {
     "data": {
      "text/plain": [
       "('foo', 'hoo', 'foo', 'hoo', 'foo', 'hoo', 'foo', 'hoo', 'aryan', 'aman')"
      ]
     },
     "execution_count": 11,
     "metadata": {},
     "output_type": "execute_result"
    }
   ],
   "source": [
    "# concatenation of tuple \n",
    "c=(\"aryan\",\"aman\")\n",
    "b+c"
   ]
  },
  {
   "cell_type": "code",
   "execution_count": 18,
   "id": "2ab6b3e5",
   "metadata": {},
   "outputs": [
    {
     "name": "stdout",
     "output_type": "stream",
     "text": [
      "3 4\n",
      "3 4\n",
      "[5, 6, 7, 8, 9]\n"
     ]
    }
   ],
   "source": [
    "# tuple Unpacking \n",
    "a,b=(3,4)\n",
    "print(a,b)\n",
    "# advanced tuple unpacking\n",
    "a,b,*rest=3,4,5,6,7,8,9\n",
    "print(a,b)\n",
    "# if I try to print rest as print(rest) then I will get only array and if I use print(*rest) then I will get a a tuple\n",
    "\n",
    "print(rest)"
   ]
  },
  {
   "cell_type": "code",
   "execution_count": 19,
   "id": "0517fd85",
   "metadata": {},
   "outputs": [
    {
     "name": "stdout",
     "output_type": "stream",
     "text": [
      "1\n"
     ]
    }
   ],
   "source": [
    "# tuple methods\n",
    "a=(1,3,4,5,6,7,8,9,0)\n",
    "print(a.count(4))"
   ]
  },
  {
   "cell_type": "code",
   "execution_count": 33,
   "id": "bad45620",
   "metadata": {},
   "outputs": [
    {
     "name": "stdout",
     "output_type": "stream",
     "text": [
      "['aryan', 'aman', 'kamal']\n",
      "['aryan', 'vimlesh', 'aman', 'kamal']\n",
      "['aryan', 'vimlesh', 'aman', 'kamal', 'a', 'b', 'c']\n",
      "['a', 'b', 'c', 'kamal', 'aparna']\n",
      "['vimlesh', 'laila', 'kamal', 'aman']\n"
     ]
    }
   ],
   "source": [
    "#List \n",
    "# append # insert operation in list\n",
    "a=[\"aryan\",\"aman\"]\n",
    "a.append(\"kamal\")\n",
    "print(a)\n",
    "a.insert(1,\"vimlesh\")\n",
    "print(a)\n",
    "#Note insert is a compute heavy operation as all the indexes have to be shifted \n",
    "#list concatenation\n",
    "b=[\"a\",\"b\",\"c\"]\n",
    "print(a+b)\n",
    "#we can also extent the pre defined list\n",
    "b.extend([\"kamal\",\"aparna\"])\n",
    "print(b)\n",
    "#sorting of list\n",
    "a=[\"aman\",\"vimlesh\",\"kamal\",\"laila\"]\n",
    "a.sort(reverse=True)\n",
    "print(a)\n",
    "# we can also provide a parameter key which can be used to used to sort the list\n",
    "a.sort(key=len,reverse=False)\n",
    "\n",
    "# Binary Search and Binary Module our goal is to insert the element in the array in such a way that list is\n",
    "#sorted\n",
    "a=[1,3,4,5,6,7]\n"
   ]
  },
  {
   "cell_type": "code",
   "execution_count": 42,
   "id": "915809a4",
   "metadata": {},
   "outputs": [
    {
     "name": "stdout",
     "output_type": "stream",
     "text": [
      "[5, 6, 7, 9, 10, 11, 13, 44]\n",
      "0\n"
     ]
    }
   ],
   "source": [
    "#Binary Search and Binary Dissection\n",
    "# suppose we want to insert an element in the middele in such a way that it is in ordered manner inserted in \n",
    "#elemenet at the same position\n",
    "l=[13,44,5,6,7,9,10,11]\n",
    "l.sort()\n",
    "print(l)\n",
    "import bisect\n",
    "# it is returning the  index of the element\n",
    "\n",
    "d=bisect.bisect(l,3)\n",
    "\n"
   ]
  },
  {
   "cell_type": "code",
   "execution_count": 45,
   "id": "ccb845c3",
   "metadata": {},
   "outputs": [
    {
     "data": {
      "text/plain": [
       "[1, 6, 9]"
      ]
     },
     "execution_count": 45,
     "metadata": {},
     "output_type": "execute_result"
    }
   ],
   "source": [
    "seq=[1,3,5,6,7,8,9,10]\n",
    "seq[::3]"
   ]
  },
  {
   "cell_type": "code",
   "execution_count": 46,
   "id": "93849266",
   "metadata": {},
   "outputs": [
    {
     "name": "stdout",
     "output_type": "stream",
     "text": [
      "0 foo\n",
      "1 hoo\n",
      "2 koo\n"
     ]
    }
   ],
   "source": [
    "# Built in Sequence Pattern\n",
    "some_list=[\"foo\",\"hoo\",\"koo\"]\n",
    "for i,v in enumerate(some_list):\n",
    "    print(i,v)"
   ]
  },
  {
   "cell_type": "code",
   "execution_count": 48,
   "id": "c5738c77",
   "metadata": {},
   "outputs": [
    {
     "name": "stdout",
     "output_type": "stream",
     "text": [
      "{0: 'foo', 1: 'hoo', 2: 'koo'}\n"
     ]
    }
   ],
   "source": [
    "# converting of an list to dictionary\n",
    "li=[\"foo\",\"hoo\",\"koo\"]\n",
    "kamal={}\n",
    "for i,v in enumerate(li):\n",
    "    kamal[i]=v\n",
    "print(kamal)\n"
   ]
  },
  {
   "cell_type": "code",
   "execution_count": 51,
   "id": "6aed02eb",
   "metadata": {},
   "outputs": [
    {
     "data": {
      "text/plain": [
       "[10, 9, 8, 7, 6, 5, 3, 1]"
      ]
     },
     "execution_count": 51,
     "metadata": {},
     "output_type": "execute_result"
    }
   ],
   "source": [
    "\n",
    "sorted(seq,reverse=True)"
   ]
  },
  {
   "cell_type": "code",
   "execution_count": 62,
   "id": "061bd4c4",
   "metadata": {},
   "outputs": [
    {
     "name": "stdout",
     "output_type": "stream",
     "text": [
      "0,foo,loo,True\n",
      "1,hoo,doo,False\n"
     ]
    }
   ],
   "source": [
    "#zip poirs the two list of the elements \n",
    "seq1=[\"foo\",\"hoo\",\"koo\"]\n",
    "seq2=[\"loo\",\"doo\",\"poo\"]\n",
    "\n",
    "seq3=[True,False]\n",
    "zipped=zip(seq1,seq2,seq3)\n",
    "\n",
    "# number of elements in both the zipped obbjects should be same, otherwise it will give (min(len(a),min(len(b)))\n",
    "# using it to iterate multiple sequences together using zipped\n",
    "for i,(a,b,c) in enumerate(zipped):\n",
    "    print(f\"{i},{a},{b},{c}\")\n"
   ]
  },
  {
   "cell_type": "code",
   "execution_count": 64,
   "id": "42e039ce",
   "metadata": {},
   "outputs": [
    {
     "name": "stdout",
     "output_type": "stream",
     "text": [
      "['foo', 'hoo', 'koo']\n"
     ]
    }
   ],
   "source": [
    "pitchers=zip(seq1,seq2)\n",
    "se1,seq2=zip(*pitchers)\n",
    "print(seq1)"
   ]
  },
  {
   "cell_type": "code",
   "execution_count": 69,
   "id": "ed4e1b43",
   "metadata": {},
   "outputs": [
    {
     "name": "stdout",
     "output_type": "stream",
     "text": [
      "{'aman': 'vimlesh', 'b': [1, 3, 4, 5, 6, 7]}\n"
     ]
    }
   ],
   "source": [
    "#dictionary\n",
    "#empty_dict\n",
    "a={}\n",
    "a[\"aman\"]=\"vimlesh\"\n",
    "a['b']=[1,3,4,5,6,7]\n",
    "print(a)\n"
   ]
  },
  {
   "cell_type": "code",
   "execution_count": 73,
   "id": "fd345122",
   "metadata": {},
   "outputs": [
    {
     "name": "stdout",
     "output_type": "stream",
     "text": [
      "dict_keys(['aman', 'b'])\n",
      "dict_values(['vimlesh', [1, 3, 4, 5, 6, 7]])\n"
     ]
    }
   ],
   "source": [
    "# finding the keys and values in dictionary\n",
    "print(a.keys())\n",
    "print(a.values())\n",
    "\n"
   ]
  },
  {
   "cell_type": "code",
   "execution_count": null,
   "id": "f870bd37",
   "metadata": {},
   "outputs": [],
   "source": []
  },
  {
   "cell_type": "code",
   "execution_count": 100,
   "id": "a8114b3e",
   "metadata": {},
   "outputs": [
    {
     "name": "stdout",
     "output_type": "stream",
     "text": [
      "-4128488151715616534\n",
      "-8855702662113332584\n"
     ]
    }
   ],
   "source": [
    "# creating dictionary from the sequences\n",
    "keys=[\"a\",\"b\",\"c\",\"d\",\"e\"]\n",
    "values=[1,3,4,5,6]\n",
    "d={}\n",
    "# seq1 as keys and seq2 as values and d[seq1]=value\n",
    "for key,value in zip(keys,values):\n",
    "    d[key]=value\n",
    "#print(d)  -- output  {'a': 1, 'b': 3, 'c': 4, 'd': 5, 'e': 6}\n",
    "# since dictionary is a collection of 2 tuples therefore it takes 2 parameters\n",
    "d=dict(zip(keys,values))\n",
    "#print(d)\n",
    "e={(\"a\",4),(\"b\",5)}\n",
    "# print(e)   --output {('a', 4), ('b', 5)}\n",
    "# Default -Values\n",
    "\"\"\"With setting values, a common case is for the values in a dict to be other collec‐\n",
    "tions, like lists. For example, you could imagine categorizing a list of words by their\n",
    "first letters as a dict of lists:\"\"\"\n",
    "words = ['apple', 'bat', 'bar', 'atom', 'book']\n",
    "by_letter={}\n",
    "# counting the number of words in list\n",
    "for word in words:\n",
    "    if word in by_letter.keys():\n",
    "        by_letter[word]+=1\n",
    "    else:\n",
    "        by_letter[word]=1\n",
    "        \n",
    "# program to group the words parallely\n",
    "# defining a new_dictionary\n",
    "new_d={}\n",
    "# iterating through the words\n",
    "for word in words:\n",
    "    # taking a first letter in word\n",
    "    alphabet=word[0]\n",
    "    # if alphabet is not present in keys then add a key with the list of values so that next time we can insert thelist\n",
    "    if alphabet not in new_d.keys():\n",
    "        new_d[alphabet]=[word]\n",
    "    else:\n",
    "        new_d[alphabet].append(word)\n",
    "\n",
    "        \n",
    "# for the value to be used as a key in dictionary it's should be hashable which we can find using hash function\n",
    "print(hash(\"aryan\"))  # string is a hashable\n",
    "print(hash((\"aman\",\"kamal\")))  # string is a has"
   ]
  },
  {
   "cell_type": "code",
   "execution_count": 101,
   "id": "1686e988",
   "metadata": {},
   "outputs": [
    {
     "name": "stdout",
     "output_type": "stream",
     "text": [
      "{'apple': 1, 'bat': 1, 'bar': 1, 'atom': 1, 'book': 1}\n"
     ]
    },
    {
     "ename": "TypeError",
     "evalue": "unhashable type: 'dict'",
     "output_type": "error",
     "traceback": [
      "\u001b[0;31m---------------------------------------------------------------------------\u001b[0m",
      "\u001b[0;31mTypeError\u001b[0m                                 Traceback (most recent call last)",
      "Cell \u001b[0;32mIn [101], line 2\u001b[0m\n\u001b[1;32m      1\u001b[0m \u001b[38;5;28mprint\u001b[39m(by_letter)\n\u001b[0;32m----> 2\u001b[0m \u001b[38;5;28mprint\u001b[39m(\u001b[38;5;28;43mhash\u001b[39;49m\u001b[43m(\u001b[49m\u001b[43mnew_d\u001b[49m\u001b[43m)\u001b[49m)\n",
      "\u001b[0;31mTypeError\u001b[0m: unhashable type: 'dict'"
     ]
    }
   ],
   "source": [
    "print(by_letter)\n",
    "# a dictionary can nnot be hashed object which means it can not be bus used as hashable object\n"
   ]
  },
  {
   "cell_type": "code",
   "execution_count": 103,
   "id": "bf1c7a0f",
   "metadata": {},
   "outputs": [
    {
     "ename": "TypeError",
     "evalue": "'tuple' object does not support item assignment",
     "output_type": "error",
     "traceback": [
      "\u001b[0;31m---------------------------------------------------------------------------\u001b[0m",
      "\u001b[0;31mTypeError\u001b[0m                                 Traceback (most recent call last)",
      "Cell \u001b[0;32mIn [103], line 2\u001b[0m\n\u001b[1;32m      1\u001b[0m a\u001b[38;5;241m=\u001b[39m(\u001b[38;5;241m3\u001b[39m,\u001b[38;5;241m34\u001b[39m,\u001b[38;5;241m5\u001b[39m,\u001b[38;5;241m6\u001b[39m,\u001b[38;5;241m7\u001b[39m,\u001b[38;5;241m9\u001b[39m)\n\u001b[0;32m----> 2\u001b[0m \u001b[43ma\u001b[49m\u001b[43m[\u001b[49m\u001b[38;5;241;43m3\u001b[39;49m\u001b[43m]\u001b[49m\u001b[38;5;241m=\u001b[39m\u001b[38;5;124m\"\u001b[39m\u001b[38;5;124maryan\u001b[39m\u001b[38;5;124m\"\u001b[39m\n",
      "\u001b[0;31mTypeError\u001b[0m: 'tuple' object does not support item assignment"
     ]
    }
   ],
   "source": [
    "a=(3,34,5,6,7,9)\n",
    "a[3]=\"aryan\""
   ]
  },
  {
   "cell_type": "code",
   "execution_count": 106,
   "id": "30722db0",
   "metadata": {},
   "outputs": [],
   "source": [
    "# to use a list as a key we have to convert it into a tuple\n",
    "b={}\n",
    "b[tuple([1,3,4,5,6])]=5\n",
    "#here list is converted into a tuple then given it to a insert\n"
   ]
  },
  {
   "cell_type": "code",
   "execution_count": 107,
   "id": "f30fa26d",
   "metadata": {},
   "outputs": [
    {
     "name": "stdout",
     "output_type": "stream",
     "text": [
      "{0, 1, 3, 4, 5, 6, 7}\n"
     ]
    }
   ],
   "source": [
    "#set\n",
    "# set is a unorderder group of items\n",
    "b=set([1,3,4,5,6,7,7,0])\n",
    "# here set does not contain repetition of elements\n",
    "print(b)"
   ]
  },
  {
   "cell_type": "code",
   "execution_count": 113,
   "id": "8cb07ec5",
   "metadata": {},
   "outputs": [
    {
     "data": {
      "text/plain": [
       "{3}"
      ]
     },
     "execution_count": 113,
     "metadata": {},
     "output_type": "execute_result"
    }
   ],
   "source": [
    "a={1,3,4,5,6,7,8,9}\n",
    "b={11,13,14,15,16,17,3}\n",
    "# Union can be appeded on a union b or a|b\n",
    "a.union(b)  #output {1, 3, 4, 5, 6, 7, 8, 9, 11, 13, 14, 15, 16, 17}\n",
    "a|b\n",
    "\n",
    "# intersection can be used for a&b and a intersection b\n",
    "a&b"
   ]
  },
  {
   "cell_type": "code",
   "execution_count": 119,
   "id": "8e1faab6",
   "metadata": {},
   "outputs": [
    {
     "name": "stdout",
     "output_type": "stream",
     "text": [
      "True\n"
     ]
    },
    {
     "data": {
      "text/plain": [
       "True"
      ]
     },
     "execution_count": 119,
     "metadata": {},
     "output_type": "execute_result"
    }
   ],
   "source": [
    "c=a\n",
    "print(c==a)\n",
    "a_set={1,3,4,5,6,7,8,9}\n",
    "{1,3,5}.issubset(a)"
   ]
  },
  {
   "cell_type": "code",
   "execution_count": 120,
   "id": "1152ac02",
   "metadata": {},
   "outputs": [
    {
     "data": {
      "text/plain": [
       "['AMAN', 'VIMLESH', 'KAMAL', 'HELLO', 'BABY']"
      ]
     },
     "execution_count": 120,
     "metadata": {},
     "output_type": "execute_result"
    }
   ],
   "source": [
    "strings=[\"a\",\"aman\",\"vimlesh\",\"kamal\",\"hello\",\"hi\",\"baby\"]\n",
    "[x.upper() for x in strings if len(x)>2]\n"
   ]
  },
  {
   "cell_type": "code",
   "execution_count": 122,
   "id": "a905458a",
   "metadata": {},
   "outputs": [
    {
     "name": "stdout",
     "output_type": "stream",
     "text": [
      "{1, 2, 4, 5, 7}\n"
     ]
    }
   ],
   "source": [
    "unique_length={len(x) for x in strings}\n",
    "print(unique_length)"
   ]
  },
  {
   "cell_type": "code",
   "execution_count": 123,
   "id": "9c2e303e",
   "metadata": {},
   "outputs": [
    {
     "name": "stdout",
     "output_type": "stream",
     "text": [
      "[['John', 'kamal', 'vimlesh', 'raja'], ['bablu', 'Elu', 'hohoha']]\n"
     ]
    }
   ],
   "source": [
    "all_data=[[\"John\",\"kamal\",\"vimlesh\",\"raja\"],\n",
    "         [\"bablu\",\"Elu\",\"hohoha\"]]\n",
    "print(all_data)"
   ]
  },
  {
   "cell_type": "code",
   "execution_count": 129,
   "id": "55703010",
   "metadata": {},
   "outputs": [
    {
     "name": "stdout",
     "output_type": "stream",
     "text": [
      "[]\n"
     ]
    }
   ],
   "source": [
    "# nested list of lists\n",
    "names=[x for name in all_data for x in name if name.count(\"e\")==1]\n",
    "print(names)"
   ]
  },
  {
   "cell_type": "code",
   "execution_count": 131,
   "id": "3890d575",
   "metadata": {},
   "outputs": [
    {
     "data": {
      "text/plain": [
       "[1, 3, 4, 5, 6, 7, 8, 9, 10]"
      ]
     },
     "execution_count": 131,
     "metadata": {},
     "output_type": "execute_result"
    }
   ],
   "source": [
    "# finding the values in tuples\n",
    "some_tuples=[(1,3,4),(5,6,7),(8,9,10)]\n",
    "flattened=[x for tup in some_tuples for x in tup]\n",
    "flattened"
   ]
  },
  {
   "cell_type": "code",
   "execution_count": 133,
   "id": "d6c750a3",
   "metadata": {},
   "outputs": [
    {
     "data": {
      "text/plain": [
       "[' Alabama ',\n",
       " 'Georgia!',\n",
       " 'Georgia',\n",
       " 'georgia',\n",
       " 'FlOrIda',\n",
       " 'south carolina##',\n",
       " 'West virginia?']"
      ]
     },
     "execution_count": 133,
     "metadata": {},
     "output_type": "execute_result"
    }
   ],
   "source": [
    "# data cleanining using Python functions\n",
    "states = [' Alabama ', 'Georgia!', 'Georgia', 'georgia', 'FlOrIda','south carolina##', 'West virginia?']\n",
    "states"
   ]
  },
  {
   "cell_type": "code",
   "execution_count": 137,
   "id": "e70bc4f1",
   "metadata": {},
   "outputs": [
    {
     "name": "stdout",
     "output_type": "stream",
     "text": [
      "Alabama\n",
      "Georgia!\n",
      "Georgia\n",
      "georgia\n",
      "FlOrIda\n",
      "south carolina##\n",
      "West virginia?\n"
     ]
    },
    {
     "data": {
      "text/plain": [
       "['Alabama',\n",
       " 'Georgia',\n",
       " 'Georgia',\n",
       " 'Georgia',\n",
       " 'Florida',\n",
       " 'South Carolina',\n",
       " 'West Virginia']"
      ]
     },
     "execution_count": 137,
     "metadata": {},
     "output_type": "execute_result"
    }
   ],
   "source": [
    "# methods for preprocesssing of data\n",
    "# here we are trying to remove the extra charcters from the list such as ? #, and !\n",
    "import re\n",
    "def clean_strings(text):\n",
    "    #defining a new list\n",
    "    new_list=[]\n",
    "    # iterating through each element\n",
    "    for value in text:\n",
    "        # stripping each value so that --input \"aryan\"  --output \"a\",\"r\",\"y\",\"a\",\"n\"\n",
    "        value=value.strip()   \n",
    "        print(value)\n",
    "        # replacing the value in the text from each element for e.g in the value we can replace all that with \"\"\n",
    "        value=re.sub(\"[!#?]\",\"\",value)\n",
    "        value=value.title()\n",
    "        new_list.append(value)\n",
    "    return new_list\n",
    "clean_strings(states)"
   ]
  },
  {
   "cell_type": "code",
   "execution_count": 143,
   "id": "2da549da",
   "metadata": {},
   "outputs": [
    {
     "data": {
      "text/plain": [
       "'aman  ?!'"
      ]
     },
     "execution_count": 143,
     "metadata": {},
     "output_type": "execute_result"
    }
   ],
   "source": [
    "l=\" aman  ?!\"\n",
    "l.strip()"
   ]
  },
  {
   "cell_type": "code",
   "execution_count": 145,
   "id": "25326adc",
   "metadata": {},
   "outputs": [
    {
     "data": {
      "text/plain": [
       "' Aman  ?!'"
      ]
     },
     "execution_count": 145,
     "metadata": {},
     "output_type": "execute_result"
    }
   ],
   "source": [
    "l.title()"
   ]
  },
  {
   "cell_type": "code",
   "execution_count": null,
   "id": "73ac2757",
   "metadata": {},
   "outputs": [],
   "source": []
  }
 ],
 "metadata": {
  "kernelspec": {
   "display_name": "Python 3 (ipykernel)",
   "language": "python",
   "name": "python3"
  },
  "language_info": {
   "codemirror_mode": {
    "name": "ipython",
    "version": 3
   },
   "file_extension": ".py",
   "mimetype": "text/x-python",
   "name": "python",
   "nbconvert_exporter": "python",
   "pygments_lexer": "ipython3",
   "version": "3.10.6"
  }
 },
 "nbformat": 4,
 "nbformat_minor": 5
}
